{
 "cells": [
  {
   "cell_type": "code",
   "execution_count": 1,
   "metadata": {},
   "outputs": [],
   "source": [
    "import pandas as pd\n",
    "import os"
   ]
  },
  {
   "cell_type": "markdown",
   "metadata": {},
   "source": [
    "### Preprocessing"
   ]
  },
  {
   "cell_type": "code",
   "execution_count": 4,
   "metadata": {},
   "outputs": [],
   "source": [
    "# target class -> convert the DEP_DELAY to binary: 0-not delayed, 1-delayed\n",
    "def convert_to_binary(delay):\n",
    "    if delay <= 0:\n",
    "        return 0\n",
    "    else:\n",
    "        return 1"
   ]
  },
  {
   "cell_type": "code",
   "execution_count": 5,
   "metadata": {},
   "outputs": [],
   "source": [
    "# data cleaning/reduction/transformation\n",
    "def clean_data(file_path):\n",
    "    df = pd.read_csv(file_path)\n",
    "\n",
    "    df = df[df['CANCELLED'] == 0]\n",
    "    df.reset_index(drop=True, inplace=True)\n",
    "\n",
    "    df.drop(['DEP_DEL15', 'WHEELS_OFF', 'CANCELLED', 'CANCELLATION_CODE', 'DIVERTED', 'FLIGHTS', 'DISTANCE_GROUP',\n",
    "             'CARRIER_DELAY', 'WEATHER_DELAY', 'NAS_DELAY', 'SECURITY_DELAY', 'LATE_AIRCRAFT_DELAY'], axis=1, inplace=True)\n",
    "\n",
    "    df['DEP_DELAY'] = df['DEP_DELAY'].apply(convert_to_binary)\n",
    "\n",
    "    # Get the year from the file name\n",
    "    year = os.path.basename(file_path).split(\".\")[0]\n",
    "\n",
    "    # Save the cleaned DataFrame to a new CSV file\n",
    "    output_path = os.path.join(\"data\", \"preprocessing\", f\"data_cleaning{year}.csv\")\n",
    "    df.to_csv(output_path, index=False)\n",
    "    print(f\"Data cleaning for {year} is completed.\")"
   ]
  },
  {
   "cell_type": "code",
   "execution_count": 6,
   "metadata": {},
   "outputs": [
    {
     "name": "stdout",
     "output_type": "stream",
     "text": [
      "Data cleaning for 2020 is completed.\n",
      "Data cleaning for 2021 is completed.\n"
     ]
    },
    {
     "name": "stderr",
     "output_type": "stream",
     "text": [
      "/var/folders/k0/pcqvc6bd4d51645qv7mg0s300000gn/T/ipykernel_71837/1805510372.py:3: DtypeWarning: Columns (10) have mixed types. Specify dtype option on import or set low_memory=False.\n",
      "  df = pd.read_csv(file_path)\n"
     ]
    },
    {
     "name": "stdout",
     "output_type": "stream",
     "text": [
      "Data cleaning for 2022 is completed.\n",
      "Data cleaning for 2019 is completed.\n",
      "Data cleaning for 2018 is completed.\n",
      "Data cleaning for 2017 is completed.\n"
     ]
    }
   ],
   "source": [
    "directory = \"Data\"\n",
    "for file_name in os.listdir(directory):\n",
    "    if file_name.endswith(\".csv\"):\n",
    "        file_path = os.path.join(directory, file_name)\n",
    "        clean_data(file_path)"
   ]
  },
  {
   "cell_type": "code",
   "execution_count": 16,
   "metadata": {},
   "outputs": [
    {
     "name": "stdout",
     "output_type": "stream",
     "text": [
      "File: data/preprocessing/data_cleaning2017.csv has no missing values in any column.\n",
      "File: data/preprocessing/data_cleaning2019.csv has no missing values in any column.\n",
      "File: data/preprocessing/data_cleaning2018.csv has no missing values in any column.\n",
      "File: data/preprocessing/data_cleaning2022.csv has no missing values in any column.\n",
      "File: data/preprocessing/data_cleaning2020.csv has no missing values in any column.\n",
      "File: data/preprocessing/data_cleaning2021.csv has no missing values in any column.\n"
     ]
    }
   ],
   "source": [
    "# check for missing values\n",
    "def check_missing_values(file_path):\n",
    "    df = pd.read_csv(file_path)\n",
    "    # Check for missing values in each column\n",
    "    missing_values = df.isna().sum()\n",
    "    # Print columns with missing values, if any\n",
    "    columns_with_missing_values = missing_values[missing_values > 0].index\n",
    "    if not columns_with_missing_values.empty:\n",
    "        print(f\"File: {file_path}\")\n",
    "        print(\"Columns with missing values:\")\n",
    "        for column in columns_with_missing_values:\n",
    "            missing_values_count = missing_values[column]\n",
    "            print(f\"{column}: {missing_values_count} missing value(s)\")\n",
    "        # Remove rows with missing values for any column\n",
    "        df.dropna(inplace=True)\n",
    "        df.reset_index(drop=True, inplace=True)\n",
    "        print(f\"Number of rows after removing missing values: {len(df)}\")\n",
    "        print()\n",
    "\n",
    "        df.to_csv(file_path, index=False)  # Overwrite the original file\n",
    "    else:\n",
    "        print(f\"File: {file_path} has no missing values in any column.\")\n",
    "\n",
    "# List all CSV files in the directory\n",
    "directory = \"data/preprocessing\"\n",
    "for file_name in os.listdir(directory):\n",
    "    if file_name.endswith(\".csv\"):\n",
    "        file_path = os.path.join(directory, file_name)\n",
    "        check_missing_values(file_path)\n"
   ]
  },
  {
   "cell_type": "markdown",
   "metadata": {},
   "source": [
    "### KNN"
   ]
  },
  {
   "cell_type": "code",
   "execution_count": 18,
   "metadata": {},
   "outputs": [],
   "source": [
    "from sklearn.model_selection import train_test_split, cross_val_score\n",
    "from sklearn.neighbors import KNeighborsClassifier\n",
    "from sklearn.metrics import accuracy_score\n",
    "import matplotlib.pyplot as plt"
   ]
  },
  {
   "cell_type": "code",
   "execution_count": 15,
   "metadata": {},
   "outputs": [
    {
     "name": "stdout",
     "output_type": "stream",
     "text": [
      "Accuracy of KNN classifier: 0.7884231101016609\n"
     ]
    }
   ],
   "source": [
    "df = pd.read_csv(\"data/preprocessing/data_cleaning2017.csv\")\n",
    "\n",
    "X = df.drop(columns=['DEP_DELAY'])\n",
    "y = df['DEP_DELAY']  # Target variable\n",
    "\n",
    "# 80% train, 20% test\n",
    "X_train, X_test, y_train, y_test = train_test_split(X, y, test_size=0.2, random_state=42)\n",
    "\n",
    "# Initialize the KNN classifier\n",
    "knn = KNeighborsClassifier(n_neighbors=5)\n",
    "\n",
    "# Train the KNN classifier\n",
    "knn.fit(X_train, y_train)\n",
    "\n",
    "# Predict the target variable for the testing set\n",
    "y_pred = knn.predict(X_test)\n",
    "\n",
    "# Calculate the accuracy of the model\n",
    "accuracy = accuracy_score(y_test, y_pred)\n",
    "print(\"Accuracy of KNN classifier:\", accuracy)"
   ]
  }
 ],
 "metadata": {
  "kernelspec": {
   "display_name": "myenv",
   "language": "python",
   "name": "python3"
  },
  "language_info": {
   "codemirror_mode": {
    "name": "ipython",
    "version": 3
   },
   "file_extension": ".py",
   "mimetype": "text/x-python",
   "name": "python",
   "nbconvert_exporter": "python",
   "pygments_lexer": "ipython3",
   "version": "3.9.19"
  }
 },
 "nbformat": 4,
 "nbformat_minor": 2
}
